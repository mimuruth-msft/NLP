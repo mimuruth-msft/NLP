{
  "nbformat": 4,
  "nbformat_minor": 0,
  "metadata": {
    "colab": {
      "provenance": [],
      "authorship_tag": "ABX9TyMvD2dOTPRui18055Pw4l31",
      "include_colab_link": true
    },
    "kernelspec": {
      "name": "python3",
      "display_name": "Python 3"
    },
    "language_info": {
      "name": "python"
    }
  },
  "cells": [
    {
      "cell_type": "markdown",
      "metadata": {
        "id": "view-in-github",
        "colab_type": "text"
      },
      "source": [
        "<a href=\"https://colab.research.google.com/github/mimuruth-msft/NLP/blob/main/07_WordNet/Chapter_7_WordNet.ipynb\" target=\"_parent\"><img src=\"https://colab.research.google.com/assets/colab-badge.svg\" alt=\"Open In Colab\"/></a>"
      ]
    },
    {
      "cell_type": "markdown",
      "source": [
        "1. ***Chapter 7: WordNet***\n",
        "\n",
        "*   WordNet is a large lexical database of English that groups English words into sets of synonyms called synsets, providing their definitions, usage examples, and relationships with other synsets. It organizes words hierarchically, allowing for traversal through hypernym and hyponym relationships, and can be used for natural language processing tasks such as word sense disambiguation, text classification, and information retrieval."
      ],
      "metadata": {
        "id": "oRKhxZgBJL7Z"
      }
    },
    {
      "cell_type": "markdown",
      "source": [
        "2.   Let's select the noun \"dog\" and output all synsets\n",
        "\n"
      ],
      "metadata": {
        "id": "yQ1o3gn0JllU"
      }
    },
    {
      "cell_type": "code",
      "source": [
        "from nltk.corpus import wordnet as wn\n",
        "\n",
        "import nltk\n",
        "#nltk.download(\"popular\")   # uncomment on the initial run\n",
        "from nltk.corpus import wordnet\n",
        "\n",
        "# get all synsets of 'dog'\n",
        "dog_synsets = wordnet.synsets('dog', pos='n')\n",
        "for synset in dog_synsets:\n",
        "    print(synset)"
      ],
      "metadata": {
        "colab": {
          "base_uri": "https://localhost:8080/"
        },
        "id": "TpBJQ1TuJ8-h",
        "outputId": "3cb86bf4-e80a-4882-92d7-31e51bb48bb4"
      },
      "execution_count": 11,
      "outputs": [
        {
          "output_type": "stream",
          "name": "stdout",
          "text": [
            "Synset('dog.n.01')\n",
            "Synset('frump.n.01')\n",
            "Synset('dog.n.03')\n",
            "Synset('cad.n.01')\n",
            "Synset('frank.n.02')\n",
            "Synset('pawl.n.01')\n",
            "Synset('andiron.n.01')\n"
          ]
        }
      ]
    },
    {
      "cell_type": "code",
      "source": [
        "# get all synsets of 'dog'\n",
        "wn.synsets('dog')"
      ],
      "metadata": {
        "colab": {
          "base_uri": "https://localhost:8080/"
        },
        "id": "2wxISy7RKnQi",
        "outputId": "7d8b6c58-0193-4849-f9ba-3d602ff7fd93"
      },
      "execution_count": 12,
      "outputs": [
        {
          "output_type": "execute_result",
          "data": {
            "text/plain": [
              "[Synset('dog.n.01'),\n",
              " Synset('frump.n.01'),\n",
              " Synset('dog.n.03'),\n",
              " Synset('cad.n.01'),\n",
              " Synset('frank.n.02'),\n",
              " Synset('pawl.n.01'),\n",
              " Synset('andiron.n.01'),\n",
              " Synset('chase.v.01')]"
            ]
          },
          "metadata": {},
          "execution_count": 12
        }
      ]
    },
    {
      "cell_type": "markdown",
      "source": [
        "3. Let's select the synset 'dog.n.01' and extract its definition, usage examples, and lemmas. We will then traverse up the WordNet hierarchy as far as we can, outputting the synsets as we go:"
      ],
      "metadata": {
        "id": "ko_o2gX0MN8i"
      }
    },
    {
      "cell_type": "code",
      "source": [
        "# get a definition for the first noun synset\n",
        "\n",
        "wn.synset('dog.n.01').definition()"
      ],
      "metadata": {
        "colab": {
          "base_uri": "https://localhost:8080/",
          "height": 35
        },
        "id": "3kuhhZEBMsI_",
        "outputId": "6157b865-c3db-42a0-bb2d-1e4f20169a4c"
      },
      "execution_count": 14,
      "outputs": [
        {
          "output_type": "execute_result",
          "data": {
            "text/plain": [
              "'a member of the genus Canis (probably descended from the common wolf) that has been domesticated by man since prehistoric times; occurs in many breeds'"
            ],
            "application/vnd.google.colaboratory.intrinsic+json": {
              "type": "string"
            }
          },
          "metadata": {},
          "execution_count": 14
        }
      ]
    },
    {
      "cell_type": "code",
      "source": [
        "# get a definition for the first verb synset\n",
        "\n",
        "wn.synset('dog.v.01').definition()"
      ],
      "metadata": {
        "colab": {
          "base_uri": "https://localhost:8080/",
          "height": 35
        },
        "id": "e3vTTsNBNIY0",
        "outputId": "bb1bdc8e-ec3a-452d-a8f2-75dabb585a68"
      },
      "execution_count": 16,
      "outputs": [
        {
          "output_type": "execute_result",
          "data": {
            "text/plain": [
              "'go after with the intent to catch'"
            ],
            "application/vnd.google.colaboratory.intrinsic+json": {
              "type": "string"
            }
          },
          "metadata": {},
          "execution_count": 16
        }
      ]
    },
    {
      "cell_type": "code",
      "source": [
        "# extract examples\n",
        "\n",
        "wn.synset('dog.v.01').examples()"
      ],
      "metadata": {
        "colab": {
          "base_uri": "https://localhost:8080/"
        },
        "id": "TFGKCkUpNcUp",
        "outputId": "a035cf1a-da1a-4993-89ef-0577509de92a"
      },
      "execution_count": 17,
      "outputs": [
        {
          "output_type": "execute_result",
          "data": {
            "text/plain": [
              "['The policeman chased the mugger down the alley', 'the dog chased the rabbit']"
            ]
          },
          "metadata": {},
          "execution_count": 17
        }
      ]
    },
    {
      "cell_type": "code",
      "source": [
        "# extract lemmas\n",
        "\n",
        "wn.synset('dog.v.01').lemmas()"
      ],
      "metadata": {
        "colab": {
          "base_uri": "https://localhost:8080/"
        },
        "id": "NF7N_9iANjZO",
        "outputId": "1f5b3a51-c9c5-4072-d3d3-974b3867daf0"
      },
      "execution_count": 18,
      "outputs": [
        {
          "output_type": "execute_result",
          "data": {
            "text/plain": [
              "[Lemma('chase.v.01.chase'),\n",
              " Lemma('chase.v.01.chase_after'),\n",
              " Lemma('chase.v.01.trail'),\n",
              " Lemma('chase.v.01.tail'),\n",
              " Lemma('chase.v.01.tag'),\n",
              " Lemma('chase.v.01.give_chase'),\n",
              " Lemma('chase.v.01.dog'),\n",
              " Lemma('chase.v.01.go_after'),\n",
              " Lemma('chase.v.01.track')]"
            ]
          },
          "metadata": {},
          "execution_count": 18
        }
      ]
    },
    {
      "cell_type": "code",
      "source": [
        "# iterate over synsets\n",
        "\n",
        "exercise_synsets = wn.synsets('dog', pos=wn.VERB)\n",
        "for sense in exercise_synsets:\n",
        "    lemmas = [l.name() for l in sense.lemmas()]\n",
        "    print(\"Synset: \" + sense.name() + \"(\" +sense.definition() + \")  \\n\\t Lemmas:\" + str(lemmas))"
      ],
      "metadata": {
        "colab": {
          "base_uri": "https://localhost:8080/"
        },
        "id": "8rCU2epgNutN",
        "outputId": "413e8a65-54c1-489f-a488-61ee67b169df"
      },
      "execution_count": 20,
      "outputs": [
        {
          "output_type": "stream",
          "name": "stdout",
          "text": [
            "Synset: chase.v.01(go after with the intent to catch)  \n",
            "\t Lemmas:['chase', 'chase_after', 'trail', 'tail', 'tag', 'give_chase', 'dog', 'go_after', 'track']\n"
          ]
        }
      ]
    },
    {
      "cell_type": "code",
      "source": [],
      "metadata": {
        "id": "SQYGo6OSOXCH"
      },
      "execution_count": null,
      "outputs": []
    },
    {
      "cell_type": "code",
      "source": [
        "selected_synset = wordnet.synset('dog.n.01')\n",
        "\n",
        "print(f\"Definition: {selected_synset.definition()}\")\n",
        "print(\"Usage examples:\")\n",
        "for example in selected_synset.examples():\n",
        "    print(f\"- {example}\")\n",
        "print(\"Lemmas:\")\n",
        "for lemma in selected_synset.lemmas():\n",
        "    print(f\"- {lemma.name()}\")\n",
        "\n",
        "print(\"Hypernyms:\")\n",
        "hypernyms = selected_synset.hypernyms()\n",
        "print(hypernyms)\n",
        "\n",
        "print(\"Hyponyms:\")\n",
        "hyponyms = selected_synset.hyponyms()\n",
        "print(hyponyms)\n",
        "\n",
        "print(\"Meronyms:\")\n",
        "meronyms = selected_synset.part_meronyms()\n",
        "print(meronyms)\n",
        "\n",
        "print(\"Holonyms:\")\n",
        "holonyms = selected_synset.part_holonyms()\n",
        "print(holonyms)\n",
        "\n",
        "print(\"Antonyms:\")\n",
        "antonyms = selected_synset.lemmas()[0].antonyms()\n",
        "print(antonyms)"
      ],
      "metadata": {
        "colab": {
          "base_uri": "https://localhost:8080/"
        },
        "id": "JEHy1TfRb1Tv",
        "outputId": "e29ff338-062b-4037-c502-084950119167"
      },
      "execution_count": 22,
      "outputs": [
        {
          "output_type": "stream",
          "name": "stdout",
          "text": [
            "Definition: a member of the genus Canis (probably descended from the common wolf) that has been domesticated by man since prehistoric times; occurs in many breeds\n",
            "Usage examples:\n",
            "- the dog barked all night\n",
            "Lemmas:\n",
            "- dog\n",
            "- domestic_dog\n",
            "- Canis_familiaris\n",
            "Hypernyms:\n",
            "[Synset('canine.n.02'), Synset('domestic_animal.n.01')]\n",
            "Hyponyms:\n",
            "[Synset('basenji.n.01'), Synset('corgi.n.01'), Synset('cur.n.01'), Synset('dalmatian.n.02'), Synset('great_pyrenees.n.01'), Synset('griffon.n.02'), Synset('hunting_dog.n.01'), Synset('lapdog.n.01'), Synset('leonberg.n.01'), Synset('mexican_hairless.n.01'), Synset('newfoundland.n.01'), Synset('pooch.n.01'), Synset('poodle.n.01'), Synset('pug.n.01'), Synset('puppy.n.01'), Synset('spitz.n.01'), Synset('toy_dog.n.01'), Synset('working_dog.n.01')]\n",
            "Meronyms:\n",
            "[Synset('flag.n.07')]\n",
            "Holonyms:\n",
            "[]\n",
            "Antonyms:\n",
            "[]\n"
          ]
        }
      ]
    },
    {
      "cell_type": "markdown",
      "source": [
        "- From the output, we can observe that WordNet organizes synsets in a hierarchical structure, with each synset having hypernyms (more general terms) and hyponyms (more specific terms). Synsets can also have meronyms (parts) and holonyms (whole) relationships. In this case, the synset 'dog.n.01' has hypernyms 'canine.n.02' and 'domestic_animal.n.01', and hyponyms for various breeds of dogs."
      ],
      "metadata": {
        "id": "VttRttLIOlER"
      }
    },
    {
      "cell_type": "markdown",
      "source": [
        "4. Let's output hypernyms, hyponyms, meronyms, holonyms, and antonyms for the verb \"run\":"
      ],
      "metadata": {
        "id": "nJMckTymOvFp"
      }
    },
    {
      "cell_type": "code",
      "source": [
        "print(f\"Hypernyms: {selected_synset.hypernyms()}\")\n",
        "print(f\"Hyponyms: {selected_synset.hyponyms()}\")\n",
        "print(f\"Meronyms: {selected_synset.part_meronyms()}\")\n",
        "print(f\"Holonyms: {selected_synset.part_holonyms()}\")\n",
        "print(f\"Antonym: {selected_synset.lemmas()[0].antonyms()}\")"
      ],
      "metadata": {
        "colab": {
          "base_uri": "https://localhost:8080/"
        },
        "id": "Y_vGR8rxOxZD",
        "outputId": "c3a04195-b6b6-4336-b00b-6d6658576c1c"
      },
      "execution_count": 23,
      "outputs": [
        {
          "output_type": "stream",
          "name": "stdout",
          "text": [
            "Hypernyms: [Synset('canine.n.02'), Synset('domestic_animal.n.01')]\n",
            "Hyponyms: [Synset('basenji.n.01'), Synset('corgi.n.01'), Synset('cur.n.01'), Synset('dalmatian.n.02'), Synset('great_pyrenees.n.01'), Synset('griffon.n.02'), Synset('hunting_dog.n.01'), Synset('lapdog.n.01'), Synset('leonberg.n.01'), Synset('mexican_hairless.n.01'), Synset('newfoundland.n.01'), Synset('pooch.n.01'), Synset('poodle.n.01'), Synset('pug.n.01'), Synset('puppy.n.01'), Synset('spitz.n.01'), Synset('toy_dog.n.01'), Synset('working_dog.n.01')]\n",
            "Meronyms: [Synset('flag.n.07')]\n",
            "Holonyms: []\n",
            "Antonym: []\n"
          ]
        }
      ]
    },
    {
      "cell_type": "markdown",
      "source": [
        "5. Let's select the verb \"run\" and output all synsets:"
      ],
      "metadata": {
        "id": "EzktuPl2SHIl"
      }
    },
    {
      "cell_type": "code",
      "source": [
        "from nltk.corpus import wordnet\n",
        "\n",
        "verb_synsets = wordnet.synsets('run', pos='v')\n",
        "for synset in verb_synsets:\n",
        "    print(synset, synset.definition())"
      ],
      "metadata": {
        "colab": {
          "base_uri": "https://localhost:8080/"
        },
        "id": "5H1b-LznSJ8A",
        "outputId": "fbc636fb-d71e-4b6d-ca4f-b70374e39ce0"
      },
      "execution_count": 24,
      "outputs": [
        {
          "output_type": "stream",
          "name": "stdout",
          "text": [
            "Synset('run.v.01') move fast by using one's feet, with one foot off the ground at any given time\n",
            "Synset('scat.v.01') flee; take to one's heels; cut and run\n",
            "Synset('run.v.03') stretch out over a distance, space, time, or scope; run or extend between two points or beyond a certain point\n",
            "Synset('operate.v.01') direct or control; projects, businesses, etc.\n",
            "Synset('run.v.05') have a particular form\n",
            "Synset('run.v.06') move along, of liquids\n",
            "Synset('function.v.01') perform as expected when applied\n",
            "Synset('range.v.01') change or be different within limits\n",
            "Synset('campaign.v.01') run, stand, or compete for an office or a position\n",
            "Synset('play.v.18') cause to emit recorded audio or video\n",
            "Synset('run.v.11') move about freely and without restraint, or act as if running around in an uncontrolled way\n",
            "Synset('tend.v.01') have a tendency or disposition to do or be something; be inclined\n",
            "Synset('run.v.13') be operating, running or functioning\n",
            "Synset('run.v.14') change from one state to another\n",
            "Synset('run.v.15') cause to perform\n",
            "Synset('run.v.16') be affected by; be subjected to\n",
            "Synset('prevail.v.03') continue to exist\n",
            "Synset('run.v.18') occur persistently\n",
            "Synset('run.v.19') carry out a process or program, as on a computer or a machine\n",
            "Synset('carry.v.15') include as the content; broadcast or publicize\n",
            "Synset('run.v.21') carry out\n",
            "Synset('guide.v.05') pass over, across, or through\n",
            "Synset('run.v.23') cause something to pass or lead somewhere\n",
            "Synset('run.v.24') make without a miss\n",
            "Synset('run.v.25') deal in illegally, such as arms or liquor\n",
            "Synset('run.v.26') cause an animal to move fast\n",
            "Synset('run.v.27') be diffused\n",
            "Synset('run.v.28') sail before the wind\n",
            "Synset('run.v.29') cover by running; run a certain distance\n",
            "Synset('run.v.30') extend or continue for a certain period of time\n",
            "Synset('run.v.31') set animals loose to graze\n",
            "Synset('run.v.32') keep company\n",
            "Synset('run.v.33') run with the ball; in such sports as football\n",
            "Synset('run.v.34') travel rapidly, by any (unspecified) means\n",
            "Synset('ply.v.03') travel a route regularly\n",
            "Synset('hunt.v.01') pursue for food or sport (as of wild animals)\n",
            "Synset('race.v.02') compete in a race\n",
            "Synset('move.v.13') progress by being changed\n",
            "Synset('melt.v.01') reduce or cause to be reduced from a solid to a liquid state, usually by heating\n",
            "Synset('ladder.v.01') come unraveled or undone as if by snagging\n",
            "Synset('run.v.41') become undone\n"
          ]
        }
      ]
    },
    {
      "cell_type": "markdown",
      "source": [
        "*   This code will output a list of all synsets for the selected verb.\n",
        "\n",
        "\n"
      ],
      "metadata": {
        "id": "1iE8W5ThTDqW"
      }
    },
    {
      "cell_type": "markdown",
      "source": [
        "6. Let's select the first synset from the list of synsets, extract its definition, usage examples, and lemmas, and traverse up the WordNet hierarchy as far as we can, outputting the synsets as you go:"
      ],
      "metadata": {
        "id": "-Q59bad4TXaA"
      }
    },
    {
      "cell_type": "code",
      "source": [
        "from nltk.corpus import wordnet\n",
        "\n",
        "verb = 'run' # select a verb\n",
        "synsets = wordnet.synsets(verb, pos=wordnet.VERB) # get all synsets for the verb and the 'verb' part of speech\n",
        "\n",
        "if synsets:\n",
        "    selected_synset = synsets[0] # select the first synset\n",
        "\n",
        "    # extract definition, usage examples, and lemmas\n",
        "    definition = selected_synset.definition()\n",
        "    examples = selected_synset.examples()\n",
        "    lemmas = selected_synset.lemmas()\n",
        "\n",
        "    # traverse up the hierarchy and output synsets\n",
        "    hypernyms = selected_synset.hypernyms()\n",
        "    while hypernyms:\n",
        "        hypernym = hypernyms[0]\n",
        "        print(hypernym)\n",
        "        hypernyms = hypernym.hypernyms()\n",
        "\n",
        "    # write observations about the organization of WordNet for verbs\n",
        "    print(\"WordNet organizes verbs into synsets based on their semantic relationships. These synsets are hierarchical, with each synset having hypernyms (more general terms) and hyponyms (more specific terms). This organization allows for easy navigation of the semantic relationships between different verbs.\")"
      ],
      "metadata": {
        "colab": {
          "base_uri": "https://localhost:8080/"
        },
        "id": "J51Irg7zTZP5",
        "outputId": "4a1f6244-8a84-4491-974a-048f832ab199"
      },
      "execution_count": 25,
      "outputs": [
        {
          "output_type": "stream",
          "name": "stdout",
          "text": [
            "Synset('travel_rapidly.v.01')\n",
            "Synset('travel.v.01')\n",
            "WordNet organizes verbs into synsets based on their semantic relationships. These synsets are hierarchical, with each synset having hypernyms (more general terms) and hyponyms (more specific terms). This organization allows for easy navigation of the semantic relationships between different verbs.\n"
          ]
        }
      ]
    },
    {
      "cell_type": "markdown",
      "source": [
        "\n",
        "\n",
        "*   WordNet organizes verbs into synsets based on their semantic relationships. These synsets are hierarchical, with each synset having hypernyms (more general terms) and hyponyms (more specific terms). This organization allows for easy navigation of the semantic relationships between different verbs.\n",
        "\n"
      ],
      "metadata": {
        "id": "iuiA-XzSWEtp"
      }
    },
    {
      "cell_type": "code",
      "source": [
        "from nltk.corpus import wordnet\n",
        "\n",
        "synset = wordnet.synset('run.v.01')\n",
        "print('Definition:', synset.definition())\n",
        "print('Usage examples:', synset.examples())\n",
        "print('Lemmas:', synset.lemmas())\n",
        "\n",
        "hypernyms = synset.hypernyms()\n",
        "while hypernyms:\n",
        "    print('Hypernyms:', hypernyms)\n",
        "    hypernyms = hypernyms[0].hypernyms()"
      ],
      "metadata": {
        "colab": {
          "base_uri": "https://localhost:8080/"
        },
        "id": "0tFQ3GvRWL_4",
        "outputId": "5f1d00a3-733d-4f87-f7f4-8ec42ca0b9ae"
      },
      "execution_count": 30,
      "outputs": [
        {
          "output_type": "stream",
          "name": "stdout",
          "text": [
            "Definition: move fast by using one's feet, with one foot off the ground at any given time\n",
            "Usage examples: [\"Don't run--you'll be out of breath\", 'The children ran to the store']\n",
            "Lemmas: [Lemma('run.v.01.run')]\n",
            "Hypernyms: [Synset('travel_rapidly.v.01')]\n",
            "Hypernyms: [Synset('travel.v.01')]\n"
          ]
        }
      ]
    },
    {
      "cell_type": "markdown",
      "source": [
        "\n",
        "\n",
        "*   This code will output the definition, examples, and lemmas for the first synset in the list, then traverse up the WordNet hierarchy by printing the hypernyms of each synset until it reaches the top of the hierarchy.\n",
        "WordNet organizes verbs based on their hypernym (or parent) synsets, which define more general concepts. This hierarchy can be useful in NLP tasks such as word sense disambiguation\n",
        "\n"
      ],
      "metadata": {
        "id": "OFu7S_EbWO0M"
      }
    },
    {
      "cell_type": "code",
      "source": [
        "import nltk\n",
        "from nltk.corpus import wordnet\n",
        "\n",
        "# Select a synset\n",
        "synset = wordnet.synset('eat.v.01')\n",
        "\n",
        "# Extract definition, usage examples, and lemmas\n",
        "definition = synset.definition()\n",
        "examples = synset.examples()\n",
        "lemmas = synset.lemmas()\n",
        "\n",
        "# Print definition, examples, and lemmas\n",
        "print(\"Definition:\", definition)\n",
        "print(\"Examples:\", examples)\n",
        "print(\"Lemmas:\", [lemma.name() for lemma in lemmas])\n",
        "\n",
        "# Traverse up the WordNet hierarchy\n",
        "current_synset = synset\n",
        "while True:\n",
        "    hypernyms = current_synset.hypernyms()\n",
        "    if len(hypernyms) == 0:\n",
        "        break\n",
        "    print(\"Hypernyms:\")\n",
        "    for hypernym in hypernyms:\n",
        "        print(\"- \", hypernym.name(), \": \", hypernym.definition())\n",
        "    current_synset = hypernyms[0]  # Continue with the first hypernym"
      ],
      "metadata": {
        "colab": {
          "base_uri": "https://localhost:8080/"
        },
        "id": "w9tR2k3YU0Fj",
        "outputId": "05e71eee-6b48-4edb-b895-ac467dba04e9"
      },
      "execution_count": 29,
      "outputs": [
        {
          "output_type": "stream",
          "name": "stdout",
          "text": [
            "Definition: take in solid food\n",
            "Examples: ['She was eating a banana', 'What did you eat for dinner last night?']\n",
            "Lemmas: ['eat']\n",
            "Hypernyms:\n",
            "-  consume.v.02 :  serve oneself to, or consume regularly\n",
            "-  eat.v.02 :  eat a meal; take a meal\n"
          ]
        }
      ]
    },
    {
      "cell_type": "markdown",
      "source": [
        "*   WordNet organizes verbs hierarchically based on their semantic relationships. The hypernyms() method returns a list of synsets that represent the immediate hypernyms (or parent synsets) of the current synset in the hierarchy. This allows us to traverse up the hierarchy from a specific synset to more general synsets. The top of the hierarchy is the root synset, which is not a verb but a concept (represented by entity.n.01). The hierarchy is organized in such a way that more general synsets are higher up, and more specific synsets are lower down. This organization reflects the way we understand and use language, and allows for efficient retrieval and comparison of related words.\n"
      ],
      "metadata": {
        "id": "hW7pwDEoVesA"
      }
    },
    {
      "cell_type": "markdown",
      "source": [
        "7. To use morphy to find as many different forms of the word as possible, we can use the lemmatize() method of the WordNetLemmatizer class: "
      ],
      "metadata": {
        "id": "CUi9QMefV4ap"
      }
    },
    {
      "cell_type": "code",
      "source": [
        "from nltk.stem import WordNetLemmatizer\n",
        "\n",
        "word = 'ran'\n",
        "lemmatizer = WordNetLemmatizer()\n",
        "forms = set(lemmatizer.lemmatize(word, pos='v') for pos in ['v', 'n', 'a', 'r'])\n",
        "print(forms)"
      ],
      "metadata": {
        "colab": {
          "base_uri": "https://localhost:8080/"
        },
        "id": "FBnCPIUsWZeP",
        "outputId": "ef034049-2e0f-4906-aaa8-c606423faf61"
      },
      "execution_count": 31,
      "outputs": [
        {
          "output_type": "stream",
          "name": "stdout",
          "text": [
            "{'run'}\n"
          ]
        }
      ]
    },
    {
      "cell_type": "code",
      "source": [
        "from nltk.stem import WordNetLemmatizer\n",
        "\n",
        "word = 'eat'\n",
        "lemmatizer = WordNetLemmatizer()\n",
        "forms = set(lemmatizer.lemmatize(word, pos='v') for pos in ['v', 'n', 'a', 'r'])\n",
        "print(forms)"
      ],
      "metadata": {
        "colab": {
          "base_uri": "https://localhost:8080/"
        },
        "id": "6-DEAFOPWxTz",
        "outputId": "f661fd5e-34b2-4868-dc74-ee4c222d3c60"
      },
      "execution_count": 32,
      "outputs": [
        {
          "output_type": "stream",
          "name": "stdout",
          "text": [
            "{'eat'}\n"
          ]
        }
      ]
    },
    {
      "cell_type": "markdown",
      "source": [
        "\n",
        "\n",
        "- Here's an example of using the morphy() method to find different forms of the word \"run\":\n",
        "\n"
      ],
      "metadata": {
        "id": "CbeuIZgLW2WF"
      }
    },
    {
      "cell_type": "code",
      "source": [
        "from nltk.corpus import wordnet\n",
        "\n",
        "word_forms = set()\n",
        "for form in ['run', 'running', 'runs', 'ran']:\n",
        "    word_forms.update(set(wordnet._morphy(form, wordnet.VERB)))\n",
        "print(word_forms)"
      ],
      "metadata": {
        "colab": {
          "base_uri": "https://localhost:8080/"
        },
        "id": "AGlcni92W8ch",
        "outputId": "cd95714d-8df8-4840-8829-b269bcfe08ad"
      },
      "execution_count": 33,
      "outputs": [
        {
          "output_type": "stream",
          "name": "stdout",
          "text": [
            "{'run'}\n"
          ]
        }
      ]
    },
    {
      "cell_type": "markdown",
      "source": [
        "\n",
        "\n",
        "*   This code will output a set of all possible forms of the word \"ran\" using morphy.\n",
        "\n"
      ],
      "metadata": {
        "id": "JDn9gqIJXFoI"
      }
    },
    {
      "cell_type": "markdown",
      "source": [
        "\n",
        "\n",
        "*   This code uses the _morphy() method of the wordnet corpus to find the possible \n",
        "lemmas that could generate the given word form in its part of speech category, which is specified as wordnet.VERB. We use the set() function to remove duplicates from the resulting list of word forms.\n",
        "\n"
      ],
      "metadata": {
        "id": "kheu-jbtXOzJ"
      }
    },
    {
      "cell_type": "code",
      "source": [
        "selected_synset = synsets[0]\n",
        "print(\"Definition:\", selected_synset.definition())\n",
        "print(\"Usage examples:\", selected_synset.examples())\n",
        "print(\"Lemmas:\", selected_synset.lemmas())\n",
        "\n",
        "print(\"\\nHypernyms:\")\n",
        "for hypernym in selected_synset.hypernyms():\n",
        "    print(hypernym)\n",
        "\n",
        "print(\"\\nHyponyms:\")\n",
        "for hyponym in selected_synset.hyponyms():\n",
        "    print(hyponym)\n",
        "\n",
        "print(\"\\nMeronyms:\")\n",
        "for meronym in selected_synset.part_meronyms() + selected_synset.substance_meronyms() + selected_synset.member_meronyms():\n",
        "    print(meronym)\n",
        "\n",
        "print(\"\\nHolonyms:\")\n",
        "for holonym in selected_synset.part_holonyms() + selected_synset.substance_holonyms() + selected_synset.member_holonyms():\n",
        "    print(holonym)\n",
        "\n",
        "print(\"\\nAntonyms:\")\n",
        "for lemma in selected_synset.lemmas():\n",
        "    for antonym in lemma.antonyms():\n",
        "        print(antonym)\n"
      ],
      "metadata": {
        "colab": {
          "base_uri": "https://localhost:8080/"
        },
        "id": "_sdEheG4XXKb",
        "outputId": "65bad0b3-9615-4cf4-8343-d74383ca3618"
      },
      "execution_count": 34,
      "outputs": [
        {
          "output_type": "stream",
          "name": "stdout",
          "text": [
            "Definition: move fast by using one's feet, with one foot off the ground at any given time\n",
            "Usage examples: [\"Don't run--you'll be out of breath\", 'The children ran to the store']\n",
            "Lemmas: [Lemma('run.v.01.run')]\n",
            "\n",
            "Hypernyms:\n",
            "Synset('travel_rapidly.v.01')\n",
            "\n",
            "Hyponyms:\n",
            "Synset('hare.v.01')\n",
            "Synset('jog.v.03')\n",
            "Synset('lope.v.01')\n",
            "Synset('outrun.v.01')\n",
            "Synset('romp.v.02')\n",
            "Synset('run.v.33')\n",
            "Synset('run_bases.v.01')\n",
            "Synset('rush.v.05')\n",
            "Synset('scurry.v.01')\n",
            "Synset('sprint.v.01')\n",
            "Synset('streak.v.02')\n",
            "Synset('trot.v.01')\n",
            "\n",
            "Meronyms:\n",
            "\n",
            "Holonyms:\n",
            "\n",
            "Antonyms:\n"
          ]
        }
      ]
    },
    {
      "cell_type": "markdown",
      "source": [
        "We observe that WordNet is organized hierarchically for verbs as well, with each synset having hypernyms and hyponyms."
      ],
      "metadata": {
        "id": "6ExVm_7IXl9r"
      }
    },
    {
      "cell_type": "code",
      "source": [
        "synset = wordnet.synset('run.v.01')\n",
        "print('Definition:', synset.definition())\n",
        "print('Usage Examples:', synset.examples())\n",
        "print('Lemmas:', [lemma.name() for lemma in synset.lemmas()])\n",
        "\n",
        "hypernym = synset.hypernyms()\n",
        "while hypernym:\n",
        "    print('Hypernym:', hypernym[0])\n",
        "    hypernym = hypernym[0].hypernyms()"
      ],
      "metadata": {
        "colab": {
          "base_uri": "https://localhost:8080/"
        },
        "id": "esCNrJzzXrei",
        "outputId": "20904355-c79c-45c4-9ce4-95a9aa60677b"
      },
      "execution_count": 35,
      "outputs": [
        {
          "output_type": "stream",
          "name": "stdout",
          "text": [
            "Definition: move fast by using one's feet, with one foot off the ground at any given time\n",
            "Usage Examples: [\"Don't run--you'll be out of breath\", 'The children ran to the store']\n",
            "Lemmas: ['run']\n",
            "Hypernym: Synset('travel_rapidly.v.01')\n",
            "Hypernym: Synset('travel.v.01')\n"
          ]
        }
      ]
    },
    {
      "cell_type": "markdown",
      "source": [
        "8. Let's select two words that we think might be similar \"car\" and \"automobile\" and find the specific synsets we are interested in, then run the Wu-Palmer similarity metric and the Lesk algorithm:"
      ],
      "metadata": {
        "id": "eciin8sgXzcV"
      }
    },
    {
      "cell_type": "code",
      "source": [
        "from nltk.corpus import wordnet\n",
        "from nltk.wsd import lesk\n",
        "\n",
        "word1 = \"car\"\n",
        "word2 = \"automobile\"\n",
        "\n",
        "synset1 = wordnet.synset(f\"{word1}.n.01\")\n",
        "synset2 = wordnet.synset(f\"{word2}.n.01\")\n",
        "\n",
        "wup_similarity = synset1.wup_similarity(synset2)\n",
        "print(\"Wu-Palmer similarity:\", wup_similarity)\n",
        "\n",
        "lesk_similarity = lesk([word1, word2], word1, \"n\").wup_similarity(lesk([word1, word2], word2, \"n\"))\n",
        "print(\"Lesk algorithm similarity:\", lesk_similarity)"
      ],
      "metadata": {
        "colab": {
          "base_uri": "https://localhost:8080/"
        },
        "id": "NoYJnKduX3wa",
        "outputId": "9f1891f8-dbff-4c4b-9f04-9995ad54f6d7"
      },
      "execution_count": 36,
      "outputs": [
        {
          "output_type": "stream",
          "name": "stdout",
          "text": [
            "Wu-Palmer similarity: 1.0\n",
            "Lesk algorithm similarity: 0.47619047619047616\n"
          ]
        }
      ]
    },
    {
      "cell_type": "markdown",
      "source": [
        "\n",
        "\n",
        "*   Select two other similar words and find their specific synsets, and run the Wu-Palmer similarity metric and Lesk algorithm:\n"
      ],
      "metadata": {
        "id": "VBMYZe7OX87m"
      }
    },
    {
      "cell_type": "code",
      "source": [
        "word1 = wordnet.synset('dog.n.01')\n",
        "word2 = wordnet.synset('cat.n.01')\n",
        "print(word1.wup_similarity(word2))\n",
        "print(word1.lch_similarity(word2))"
      ],
      "metadata": {
        "colab": {
          "base_uri": "https://localhost:8080/"
        },
        "id": "7AmskWDsX_lS",
        "outputId": "e69afb2f-06a5-4af6-d398-b8350c5a6641"
      },
      "execution_count": 37,
      "outputs": [
        {
          "output_type": "stream",
          "name": "stdout",
          "text": [
            "0.8571428571428571\n",
            "2.0281482472922856\n"
          ]
        }
      ]
    },
    {
      "cell_type": "markdown",
      "source": [
        "\n",
        "\n",
        "*   Both the Wu-Palmer similarity metric and the Lesk algorithm produce similarity scores between synsets based on the overlap of their lexical definitions and the structure of the WordNet hierarchy.\n",
        "The Wu-Palmer similarity metric and the Lesk algorithm can be used to measure the similarity between two words based on the relatedness of their synsets in WordNet. These measures are useful in NLP applications such as information retrieval, text classification, and machine translation.\n",
        "The Wu-Palmer similarity metric and Lesk algorithm both measure the similarity between two synsets. The Wu-Palmer similarity metric computes the similarity based on the shortest path that connects the two synsets in the WordNet hierarchy, while the Lesk algorithm compares the overlap of the glosses (i.e., definitions) of the two synsets.\n",
        "\n"
      ],
      "metadata": {
        "id": "I78raWKsYGUR"
      }
    },
    {
      "cell_type": "markdown",
      "source": [
        "\n",
        "\n",
        "*   SentiWordNet is a lexical resource that assigns sentiment scores to synsets in WordNet. Its functionality includes sentiment analysis, text classification, and opinion mining in NLP applications. Here's Python code to select an emotionally charged word, find its senti-synsets, and output the polarity scores:\n",
        "\n"
      ],
      "metadata": {
        "id": "zaldI7kHYJdX"
      }
    },
    {
      "cell_type": "markdown",
      "source": [
        "\n",
        "\n",
        "*   Example of finding the senti-synsets and polarity scores for the word \"love\":\n",
        "\n"
      ],
      "metadata": {
        "id": "62YHJ8MLYP2Z"
      }
    },
    {
      "cell_type": "code",
      "source": [
        "nltk.download('sentiwordnet')\n",
        "from nltk.corpus import sentiwordnet as swn\n",
        "from nltk.corpus import wordnet\n",
        "\n",
        "word = 'love'\n",
        "\n",
        "synsets = wordnet.synsets(word)\n",
        "for synset in synsets:\n",
        "    senti_synset = swn.senti_synset(synset.name())\n",
        "    print('SentiSynset:', senti_synset)\n",
        "    print('Positive Score:', senti_synset.pos_score())\n",
        "    print('Negative Score:', senti_synset.neg_score())\n",
        "    print('Objective Score:', senti_synset.obj_score())"
      ],
      "metadata": {
        "colab": {
          "base_uri": "https://localhost:8080/"
        },
        "id": "KOmrHVIAYSaG",
        "outputId": "f5597b78-8204-4671-902c-ba919a8141b2"
      },
      "execution_count": 38,
      "outputs": [
        {
          "output_type": "stream",
          "name": "stderr",
          "text": [
            "[nltk_data] Downloading package sentiwordnet to /root/nltk_data...\n",
            "[nltk_data]   Unzipping corpora/sentiwordnet.zip.\n"
          ]
        },
        {
          "output_type": "stream",
          "name": "stdout",
          "text": [
            "SentiSynset: <love.n.01: PosScore=0.625 NegScore=0.0>\n",
            "Positive Score: 0.625\n",
            "Negative Score: 0.0\n",
            "Objective Score: 0.375\n",
            "SentiSynset: <love.n.02: PosScore=0.375 NegScore=0.0>\n",
            "Positive Score: 0.375\n",
            "Negative Score: 0.0\n",
            "Objective Score: 0.625\n",
            "SentiSynset: <beloved.n.01: PosScore=0.125 NegScore=0.0>\n",
            "Positive Score: 0.125\n",
            "Negative Score: 0.0\n",
            "Objective Score: 0.875\n",
            "SentiSynset: <love.n.04: PosScore=0.25 NegScore=0.0>\n",
            "Positive Score: 0.25\n",
            "Negative Score: 0.0\n",
            "Objective Score: 0.75\n",
            "SentiSynset: <love.n.05: PosScore=0.0 NegScore=0.0>\n",
            "Positive Score: 0.0\n",
            "Negative Score: 0.0\n",
            "Objective Score: 1.0\n",
            "SentiSynset: <sexual_love.n.02: PosScore=0.0 NegScore=0.0>\n",
            "Positive Score: 0.0\n",
            "Negative Score: 0.0\n",
            "Objective Score: 1.0\n",
            "SentiSynset: <love.v.01: PosScore=0.5 NegScore=0.0>\n",
            "Positive Score: 0.5\n",
            "Negative Score: 0.0\n",
            "Objective Score: 0.5\n",
            "SentiSynset: <love.v.02: PosScore=1.0 NegScore=0.0>\n",
            "Positive Score: 1.0\n",
            "Negative Score: 0.0\n",
            "Objective Score: 0.0\n",
            "SentiSynset: <love.v.03: PosScore=0.625 NegScore=0.0>\n",
            "Positive Score: 0.625\n",
            "Negative Score: 0.0\n",
            "Objective Score: 0.375\n",
            "SentiSynset: <sleep_together.v.01: PosScore=0.375 NegScore=0.125>\n",
            "Positive Score: 0.375\n",
            "Negative Score: 0.125\n",
            "Objective Score: 0.5\n"
          ]
        }
      ]
    },
    {
      "cell_type": "code",
      "source": [
        "from nltk.corpus import sentiwordnet as swn\n",
        "\n",
        "word = \"love\"\n",
        "synsets = wordnet.synsets(word)\n",
        "senti_synsets = [swn.senti_synset(synset.name()) for synset in synsets]\n",
        "\n",
        "for senti_synset in senti_synsets:\n",
        "    print(senti_synset.synset.name(), senti_synset.pos_score(), senti_synset.neg_score(), senti_synset.obj_score())"
      ],
      "metadata": {
        "colab": {
          "base_uri": "https://localhost:8080/"
        },
        "id": "4xjwUXLPYXfD",
        "outputId": "d4c0d3ba-0709-4ecb-b737-fa9a9e0f79b5"
      },
      "execution_count": 39,
      "outputs": [
        {
          "output_type": "stream",
          "name": "stdout",
          "text": [
            "love.n.01 0.625 0.0 0.375\n",
            "love.n.02 0.375 0.0 0.625\n",
            "beloved.n.01 0.125 0.0 0.875\n",
            "love.n.04 0.25 0.0 0.75\n",
            "love.n.05 0.0 0.0 1.0\n",
            "sexual_love.n.02 0.0 0.0 1.0\n",
            "love.v.01 0.5 0.0 0.5\n",
            "love.v.02 1.0 0.0 0.0\n",
            "love.v.03 0.625 0.0 0.375\n",
            "sleep_together.v.01 0.375 0.125 0.5\n"
          ]
        }
      ]
    },
    {
      "cell_type": "markdown",
      "source": [
        "\n",
        "\n",
        "*   SentiWordNet provides three polarity scores for each senti-synset, which represent the degree of positivity, negativity, and objectivity of the associated word sense. These scores can be used to perform sentiment analysis and other NLP tasks.\n",
        "\n"
      ],
      "metadata": {
        "id": "bMDeLk9dYcW5"
      }
    },
    {
      "cell_type": "markdown",
      "source": [
        "\n",
        "\n",
        "*   SentiWordNet is a lexical resource that assigns sentiment scores (positive, negative, and neutral) to synsets in WordNet. It can be used in sentiment analysis tasks to classify text as positive, negative, or neutral.\n",
        "\n"
      ],
      "metadata": {
        "id": "buNGq-N2Yh1L"
      }
    },
    {
      "cell_type": "code",
      "source": [
        "senti_synsets = list(swn.senti_synsets('love', 'v'))\n",
        "for synset in senti_synsets:\n",
        "    print(synset.synset.name(), synset.pos_score(), synset.neg_score())"
      ],
      "metadata": {
        "colab": {
          "base_uri": "https://localhost:8080/"
        },
        "id": "_qcyppaeYlan",
        "outputId": "908f9588-74b4-483a-fada-e84ae3ad0f60"
      },
      "execution_count": 40,
      "outputs": [
        {
          "output_type": "stream",
          "name": "stdout",
          "text": [
            "love.v.01 0.5 0.0\n",
            "love.v.02 1.0 0.0\n",
            "love.v.03 0.625 0.0\n",
            "sleep_together.v.01 0.375 0.125\n"
          ]
        }
      ]
    },
    {
      "cell_type": "markdown",
      "source": [
        "\n",
        "\n",
        "*   The polarity scores of the synsets in SentiWordNet indicate the degree of positivity (pos_score) or negativity (neg_score) of a word in a specific context. These scores can be used in sentiment analysis applications to better understand the sentiment of text.\n",
        "\n"
      ],
      "metadata": {
        "id": "oeuNj_lsYoZ3"
      }
    },
    {
      "cell_type": "markdown",
      "source": [
        "\n",
        "\n",
        "*   A collocation is a sequence of words or group of words that frequently occur together in a language and form a meaningful expression. It can be used to infer the meaning of individual words and to identify the syntactic structure of a sentence. Collocations can provide useful information for language modeling, text classification, and other NLP tasks. Here's Python code to output collocations for text4, the Inaugural corpus, and calculate mutual information:\n"
      ],
      "metadata": {
        "id": "P6EPrpYVYs95"
      }
    },
    {
      "cell_type": "markdown",
      "source": [
        "\n",
        "\n",
        "*   This code prints out the collocations that occur most frequently in the Inaugural corpus.\n"
      ],
      "metadata": {
        "id": "Z-6zQdslYxMB"
      }
    },
    {
      "cell_type": "code",
      "source": [
        "from nltk.collocations import BigramAssocMeasures, BigramCollocationFinder\n",
        "from nltk.corpus import inaugural\n",
        "\n",
        "text = inaugural.raw()\n",
        "\n",
        "finder = BigramCollocationFinder.from_words(text.split())\n",
        "finder.apply_freq_filter(5)\n",
        "collocations = finder.nbest(BigramAssocMeasures().pmi, 10)\n",
        "#print(collocations)\n",
        "for collocation in collocations:\n",
        "  print(collocation)"
      ],
      "metadata": {
        "colab": {
          "base_uri": "https://localhost:8080/"
        },
        "id": "gcQ6t44GY3vU",
        "outputId": "d3a9192e-b05a-40ba-e6d6-860d0431503a"
      },
      "execution_count": 41,
      "outputs": [
        {
          "output_type": "stream",
          "name": "stdout",
          "text": [
            "('preserve,', 'protect,')\n",
            "('coordinate', 'branches')\n",
            "('Chief', 'Magistrate')\n",
            "('Thank', 'you.')\n",
            "('Chief', 'Justice,')\n",
            "('Vice', 'President,')\n",
            "('Almighty', 'God.')\n",
            "('President', 'Bush,')\n",
            "('God', 'bless')\n",
            "('Fellow', 'citizens,')\n"
          ]
        }
      ]
    },
    {
      "cell_type": "markdown",
      "source": [
        "\n",
        "\n",
        "*   To calculate the mutual information of a collocation, we need to know the frequency of the collocation and the individual frequencies of its constituent words.\n",
        "\n"
      ],
      "metadata": {
        "id": "dLnNO_FGY6bM"
      }
    },
    {
      "cell_type": "markdown",
      "source": [
        "\n",
        "\n",
        "*   Here's another example of how to output collocations and calculate mutual information:\n"
      ],
      "metadata": {
        "id": "6FRdcZ3GY-Zz"
      }
    },
    {
      "cell_type": "code",
      "source": [
        "from nltk.collocations import BigramAssocMeasures, BigramCollocationFinder\n",
        "from nltk.corpus import inaugural\n",
        "\n",
        "text = inaugural.words()\n",
        "finder = BigramCollocationFinder.from_words(text)\n",
        "bigram_measures = BigramAssocMeasures()\n",
        "collocations = finder.nbest(bigram_measures.pmi, 10)\n",
        "\n",
        "for collocation in collocations:\n",
        "    if 'freedom' in collocation:\n",
        "        print(collocation)"
      ],
      "metadata": {
        "id": "bsBs1aBvZCMW"
      },
      "execution_count": 42,
      "outputs": []
    },
    {
      "cell_type": "markdown",
      "source": [
        "\n",
        "\n",
        "*   Above code will find the top 10 bigram collocations based on their pointwise mutual information (PMI) score. It will then select the collocations containing the word 'freedom' and output them. The last line is the selected collocation, 'freedom of the', and we can then calculate its mutual information using the following code:\n",
        "\n"
      ],
      "metadata": {
        "id": "Gzm9dQNeZFv4"
      }
    },
    {
      "cell_type": "code",
      "source": [
        "from nltk.probability import FreqDist\n",
        "from nltk.collocations import BigramAssocMeasures\n",
        "\n",
        "word_fd = FreqDist(text)\n",
        "bigram_fd = FreqDist(nltk.bigrams(text))\n",
        "N = bigram_fd.N()\n",
        "\n",
        "freedom_of_freq = bigram_fd[('freedom', 'of')]\n",
        "freedom_freq = word_fd['freedom']\n",
        "of_freq = word_fd['of']\n",
        "\n",
        "mi = BigramAssocMeasures().mi_like(freedom_of_freq, (freedom_freq, of_freq), N)\n",
        "print(mi)"
      ],
      "metadata": {
        "colab": {
          "base_uri": "https://localhost:8080/"
        },
        "id": "KdgwZ-6bZI2t",
        "outputId": "09e08ffe-b977-466b-8304-b11b81f0675e"
      },
      "execution_count": 43,
      "outputs": [
        {
          "output_type": "stream",
          "name": "stdout",
          "text": [
            "0.012108460811208754\n"
          ]
        }
      ]
    },
    {
      "cell_type": "markdown",
      "source": [
        "\n",
        "\n",
        "*   The mutual information of 'freedom means that the occurrence of 'freedom' and 'of' together is highly informative and indicative of the meaning of the text.\n",
        "\n"
      ],
      "metadata": {
        "id": "hbSysqiyZLqq"
      }
    },
    {
      "cell_type": "code",
      "source": [
        "import nltk\n",
        "\n",
        "# Load the Inaugural corpus\n",
        "nltk.download('inaugural')\n",
        "text = nltk.corpus.inaugural.words()\n",
        "\n",
        "# Generate collocations using the BigramAssocMeasures function\n",
        "bigram_measures = nltk.collocations.BigramAssocMeasures()\n",
        "finder = nltk.collocations.BigramCollocationFinder.from_words(text)\n",
        "finder.apply_freq_filter(5)\n",
        "collocations = finder.nbest(bigram_measures.pmi, 10)\n",
        "\n",
        "# Select one collocation and calculate mutual information\n",
        "collocation = collocations[0]\n",
        "pmi = BigramAssocMeasures().mi_like(freedom_of_freq, (freedom_freq, of_freq), N)\n",
        "print(\"Selected collocation:\", collocation)\n",
        "print(\"Mutual information:\", pmi)"
      ],
      "metadata": {
        "colab": {
          "base_uri": "https://localhost:8080/"
        },
        "id": "Hb3jzqrZZTv1",
        "outputId": "030b4316-a979-4796-dac6-d17d5a953f23"
      },
      "execution_count": 45,
      "outputs": [
        {
          "output_type": "stream",
          "name": "stderr",
          "text": [
            "[nltk_data] Downloading package inaugural to /root/nltk_data...\n",
            "[nltk_data]   Package inaugural is already up-to-date!\n"
          ]
        },
        {
          "output_type": "stream",
          "name": "stdout",
          "text": [
            "Selected collocation: ('Indian', 'tribes')\n",
            "Mutual information: 0.012108460811208754\n"
          ]
        }
      ]
    },
    {
      "cell_type": "markdown",
      "source": [
        "\n",
        "\n",
        "*   This will output the 10 collocations with the highest pointwise mutual information (PMI) score. The code filters out common stopwords and words that are too short, and then selects only the collocation \"united states\" to calculate mutual information. The output shows the collocation and its MI score.\n",
        "\n"
      ],
      "metadata": {
        "id": "jDKuKB5CZaBz"
      }
    }
  ]
}